{
  "nbformat": 4,
  "nbformat_minor": 0,
  "metadata": {
    "colab": {
      "provenance": []
    },
    "kernelspec": {
      "name": "python3",
      "display_name": "Python 3"
    },
    "language_info": {
      "name": "python"
    },
    "accelerator": "GPU",
    "gpuClass": "standard"
  },
  "cells": [
    {
      "cell_type": "code",
      "execution_count": null,
      "metadata": {
        "id": "TWbMdAloaBKL"
      },
      "outputs": [],
      "source": [
        "import requests\n",
        "from bs4 import BeautifulSoup\n",
        "import pandas as pd\n",
        "from urllib.parse import urlencode\n",
        "import csv"
      ]
    },
    {
      "cell_type": "code",
      "source": [
        "cust_name = []\n",
        "rev_title = []\n",
        "rev_content = []\n",
        "for page in range(1,35):\n",
        "  urls=[\"https://www.amazon.in/HP-RX5500M-Graphics-Flicker-16-e0162AX/product-reviews/B098QBT5KT/ref=lp_7198569031_1_1?thm=1&sortBy=electronics&pageNumber=\"+str(page),\n",
        "        \"https://www.amazon.in/Apple-iPhone-13-128GB-Pink/product-reviews/B09G9FPGTN/ref=sr_1_21?qid=1674458225&refinements=p_89%3AApple%7CFire-Boltt&rnid=3837712031&s=electronics&sr=1-21&th=1&sortBy=electronics&pageNumber=\"+str(page),\n",
        "        \"https://www.amazon.in/Apple-iPhone-14-128GB-Blue/product-reviews/B0BDK62PDX/ref=cm_cr_getr_d_paging_btm_next_3?qid=1674457789&refinements=p_89%3AApple&rnid=3837712031&s=electronics&sr=1-2&th=1&sortBy=electronics&pageNumber=\"+ str(page),\n",
        "        \"https://www.amazon.in/New-Apple-iPhone-Mini-128GB/product-reviews/B08L5VN68Y/ref=cm_cr_arp_d_paging_btm_next_2?ie=UTF8&reviewerType=all_reviews&pageNumber=\"+str(page)]\n",
        "  for j in urls:\n",
        "      code = requests.get(j)\n",
        "      if str(code) == \"<Response [200]>\":\n",
        "        soup = BeautifulSoup(code.content,'html.parser')\n",
        "        names = soup.select('span.a-profile-name')[1:]\n",
        "        titles = soup.select('a.review-title span')\n",
        "        reviews = soup.select('span.review-text-content span')\n",
        "        for i in range(len(names)-3):\n",
        "          cust_name.append(names[i].get_text())\n",
        "          rev_title.append(titles[i].get_text())\n",
        "          rev_content.append(reviews[i].get_text().strip(\"\\n \"))"
      ],
      "metadata": {
        "id": "42stR7y5nElm"
      },
      "execution_count": null,
      "outputs": []
    },
    {
      "cell_type": "code",
      "source": [
        "df = pd.DataFrame()\n",
        "df['Customer Name'] = cust_name\n",
        "df['Review Title'] = rev_title\n",
        "df['Reviews'] = rev_content\n",
        "df"
      ],
      "metadata": {
        "colab": {
          "base_uri": "https://localhost:8080/",
          "height": 423
        },
        "id": "9mORruG-HORm",
        "outputId": "d7e609b4-2089-4141-aed9-2fe324e2c457"
      },
      "execution_count": null,
      "outputs": [
        {
          "output_type": "execute_result",
          "data": {
            "text/plain": [
              "            Customer Name                                       Review Title  \\\n",
              "0             Khanbaba555                       Review after 1 week of usage   \n",
              "1     debarghyo chaudhuri  Truly worth the money spent! Even if you go br...   \n",
              "2                  ApTreX                               One word “excellent“   \n",
              "3                  Rakesh                        Awesome mobile i loved it 😍   \n",
              "4         Ali Faisal Khan                        Disappointed with packaging   \n",
              "..                    ...                                                ...   \n",
              "307         Harsh Nankani                         Has serious heating issue.   \n",
              "308       Purushottam Raj             All the goodness of iphone but smaller   \n",
              "309               Kishore                                      Great Phone 📱   \n",
              "310  Partha Pratik Mishra                               Battery is not great   \n",
              "311       Amazon Customer                               What can you expect.   \n",
              "\n",
              "                                               Reviews  \n",
              "0    Got it for 65K on Amazon prime day. So as a li...  \n",
              "1    My honest review after going broke buying this...  \n",
              "2    If you are a android user, trust me switch to ...  \n",
              "3    Everything is very good. But packaging quality...  \n",
              "4    worst packaging, Packaged iphone in plastic ba...  \n",
              "..                                                 ...  \n",
              "307  This phone has some serious heating issue. It ...  \n",
              "308  I've always been wanting a smaller phone to us...  \n",
              "309  I loved the small form factor of the iPhone 12...  \n",
              "310                               Battery is not great  \n",
              "311  Works like a charm. Battery is superbly optimi...  \n",
              "\n",
              "[312 rows x 3 columns]"
            ],
            "text/html": [
              "\n",
              "  <div id=\"df-4374bcbd-c9d4-4ce2-b83b-dbfc2c410333\">\n",
              "    <div class=\"colab-df-container\">\n",
              "      <div>\n",
              "<style scoped>\n",
              "    .dataframe tbody tr th:only-of-type {\n",
              "        vertical-align: middle;\n",
              "    }\n",
              "\n",
              "    .dataframe tbody tr th {\n",
              "        vertical-align: top;\n",
              "    }\n",
              "\n",
              "    .dataframe thead th {\n",
              "        text-align: right;\n",
              "    }\n",
              "</style>\n",
              "<table border=\"1\" class=\"dataframe\">\n",
              "  <thead>\n",
              "    <tr style=\"text-align: right;\">\n",
              "      <th></th>\n",
              "      <th>Customer Name</th>\n",
              "      <th>Review Title</th>\n",
              "      <th>Reviews</th>\n",
              "    </tr>\n",
              "  </thead>\n",
              "  <tbody>\n",
              "    <tr>\n",
              "      <th>0</th>\n",
              "      <td>Khanbaba555</td>\n",
              "      <td>Review after 1 week of usage</td>\n",
              "      <td>Got it for 65K on Amazon prime day. So as a li...</td>\n",
              "    </tr>\n",
              "    <tr>\n",
              "      <th>1</th>\n",
              "      <td>debarghyo chaudhuri</td>\n",
              "      <td>Truly worth the money spent! Even if you go br...</td>\n",
              "      <td>My honest review after going broke buying this...</td>\n",
              "    </tr>\n",
              "    <tr>\n",
              "      <th>2</th>\n",
              "      <td>ApTreX</td>\n",
              "      <td>One word “excellent“</td>\n",
              "      <td>If you are a android user, trust me switch to ...</td>\n",
              "    </tr>\n",
              "    <tr>\n",
              "      <th>3</th>\n",
              "      <td>Rakesh</td>\n",
              "      <td>Awesome mobile i loved it 😍</td>\n",
              "      <td>Everything is very good. But packaging quality...</td>\n",
              "    </tr>\n",
              "    <tr>\n",
              "      <th>4</th>\n",
              "      <td>Ali Faisal Khan</td>\n",
              "      <td>Disappointed with packaging</td>\n",
              "      <td>worst packaging, Packaged iphone in plastic ba...</td>\n",
              "    </tr>\n",
              "    <tr>\n",
              "      <th>...</th>\n",
              "      <td>...</td>\n",
              "      <td>...</td>\n",
              "      <td>...</td>\n",
              "    </tr>\n",
              "    <tr>\n",
              "      <th>307</th>\n",
              "      <td>Harsh Nankani</td>\n",
              "      <td>Has serious heating issue.</td>\n",
              "      <td>This phone has some serious heating issue. It ...</td>\n",
              "    </tr>\n",
              "    <tr>\n",
              "      <th>308</th>\n",
              "      <td>Purushottam Raj</td>\n",
              "      <td>All the goodness of iphone but smaller</td>\n",
              "      <td>I've always been wanting a smaller phone to us...</td>\n",
              "    </tr>\n",
              "    <tr>\n",
              "      <th>309</th>\n",
              "      <td>Kishore</td>\n",
              "      <td>Great Phone 📱</td>\n",
              "      <td>I loved the small form factor of the iPhone 12...</td>\n",
              "    </tr>\n",
              "    <tr>\n",
              "      <th>310</th>\n",
              "      <td>Partha Pratik Mishra</td>\n",
              "      <td>Battery is not great</td>\n",
              "      <td>Battery is not great</td>\n",
              "    </tr>\n",
              "    <tr>\n",
              "      <th>311</th>\n",
              "      <td>Amazon Customer</td>\n",
              "      <td>What can you expect.</td>\n",
              "      <td>Works like a charm. Battery is superbly optimi...</td>\n",
              "    </tr>\n",
              "  </tbody>\n",
              "</table>\n",
              "<p>312 rows × 3 columns</p>\n",
              "</div>\n",
              "      <button class=\"colab-df-convert\" onclick=\"convertToInteractive('df-4374bcbd-c9d4-4ce2-b83b-dbfc2c410333')\"\n",
              "              title=\"Convert this dataframe to an interactive table.\"\n",
              "              style=\"display:none;\">\n",
              "        \n",
              "  <svg xmlns=\"http://www.w3.org/2000/svg\" height=\"24px\"viewBox=\"0 0 24 24\"\n",
              "       width=\"24px\">\n",
              "    <path d=\"M0 0h24v24H0V0z\" fill=\"none\"/>\n",
              "    <path d=\"M18.56 5.44l.94 2.06.94-2.06 2.06-.94-2.06-.94-.94-2.06-.94 2.06-2.06.94zm-11 1L8.5 8.5l.94-2.06 2.06-.94-2.06-.94L8.5 2.5l-.94 2.06-2.06.94zm10 10l.94 2.06.94-2.06 2.06-.94-2.06-.94-.94-2.06-.94 2.06-2.06.94z\"/><path d=\"M17.41 7.96l-1.37-1.37c-.4-.4-.92-.59-1.43-.59-.52 0-1.04.2-1.43.59L10.3 9.45l-7.72 7.72c-.78.78-.78 2.05 0 2.83L4 21.41c.39.39.9.59 1.41.59.51 0 1.02-.2 1.41-.59l7.78-7.78 2.81-2.81c.8-.78.8-2.07 0-2.86zM5.41 20L4 18.59l7.72-7.72 1.47 1.35L5.41 20z\"/>\n",
              "  </svg>\n",
              "      </button>\n",
              "      \n",
              "  <style>\n",
              "    .colab-df-container {\n",
              "      display:flex;\n",
              "      flex-wrap:wrap;\n",
              "      gap: 12px;\n",
              "    }\n",
              "\n",
              "    .colab-df-convert {\n",
              "      background-color: #E8F0FE;\n",
              "      border: none;\n",
              "      border-radius: 50%;\n",
              "      cursor: pointer;\n",
              "      display: none;\n",
              "      fill: #1967D2;\n",
              "      height: 32px;\n",
              "      padding: 0 0 0 0;\n",
              "      width: 32px;\n",
              "    }\n",
              "\n",
              "    .colab-df-convert:hover {\n",
              "      background-color: #E2EBFA;\n",
              "      box-shadow: 0px 1px 2px rgba(60, 64, 67, 0.3), 0px 1px 3px 1px rgba(60, 64, 67, 0.15);\n",
              "      fill: #174EA6;\n",
              "    }\n",
              "\n",
              "    [theme=dark] .colab-df-convert {\n",
              "      background-color: #3B4455;\n",
              "      fill: #D2E3FC;\n",
              "    }\n",
              "\n",
              "    [theme=dark] .colab-df-convert:hover {\n",
              "      background-color: #434B5C;\n",
              "      box-shadow: 0px 1px 3px 1px rgba(0, 0, 0, 0.15);\n",
              "      filter: drop-shadow(0px 1px 2px rgba(0, 0, 0, 0.3));\n",
              "      fill: #FFFFFF;\n",
              "    }\n",
              "  </style>\n",
              "\n",
              "      <script>\n",
              "        const buttonEl =\n",
              "          document.querySelector('#df-4374bcbd-c9d4-4ce2-b83b-dbfc2c410333 button.colab-df-convert');\n",
              "        buttonEl.style.display =\n",
              "          google.colab.kernel.accessAllowed ? 'block' : 'none';\n",
              "\n",
              "        async function convertToInteractive(key) {\n",
              "          const element = document.querySelector('#df-4374bcbd-c9d4-4ce2-b83b-dbfc2c410333');\n",
              "          const dataTable =\n",
              "            await google.colab.kernel.invokeFunction('convertToInteractive',\n",
              "                                                     [key], {});\n",
              "          if (!dataTable) return;\n",
              "\n",
              "          const docLinkHtml = 'Like what you see? Visit the ' +\n",
              "            '<a target=\"_blank\" href=https://colab.research.google.com/notebooks/data_table.ipynb>data table notebook</a>'\n",
              "            + ' to learn more about interactive tables.';\n",
              "          element.innerHTML = '';\n",
              "          dataTable['output_type'] = 'display_data';\n",
              "          await google.colab.output.renderOutput(dataTable, element);\n",
              "          const docLink = document.createElement('div');\n",
              "          docLink.innerHTML = docLinkHtml;\n",
              "          element.appendChild(docLink);\n",
              "        }\n",
              "      </script>\n",
              "    </div>\n",
              "  </div>\n",
              "  "
            ]
          },
          "metadata": {},
          "execution_count": 3
        }
      ]
    },
    {
      "cell_type": "code",
      "source": [
        "df.drop_duplicates(subset=\"Reviews\",\n",
        "                     keep=False, inplace=True)\n",
        "df"
      ],
      "metadata": {
        "colab": {
          "base_uri": "https://localhost:8080/",
          "height": 423
        },
        "id": "J8yqThfUrADQ",
        "outputId": "ef5c746d-6620-4c31-aac6-0630ad68ee28"
      },
      "execution_count": null,
      "outputs": [
        {
          "output_type": "execute_result",
          "data": {
            "text/plain": [
              "            Customer Name                                       Review Title  \\\n",
              "0             Khanbaba555                       Review after 1 week of usage   \n",
              "1     debarghyo chaudhuri  Truly worth the money spent! Even if you go br...   \n",
              "2                  ApTreX                               One word “excellent“   \n",
              "3                  Rakesh                        Awesome mobile i loved it 😍   \n",
              "4         Ali Faisal Khan                        Disappointed with packaging   \n",
              "..                    ...                                                ...   \n",
              "307         Harsh Nankani                         Has serious heating issue.   \n",
              "308       Purushottam Raj             All the goodness of iphone but smaller   \n",
              "309               Kishore                                      Great Phone 📱   \n",
              "310  Partha Pratik Mishra                               Battery is not great   \n",
              "311       Amazon Customer                               What can you expect.   \n",
              "\n",
              "                                               Reviews  \n",
              "0    Got it for 65K on Amazon prime day. So as a li...  \n",
              "1    My honest review after going broke buying this...  \n",
              "2    If you are a android user, trust me switch to ...  \n",
              "3    Everything is very good. But packaging quality...  \n",
              "4    worst packaging, Packaged iphone in plastic ba...  \n",
              "..                                                 ...  \n",
              "307  This phone has some serious heating issue. It ...  \n",
              "308  I've always been wanting a smaller phone to us...  \n",
              "309  I loved the small form factor of the iPhone 12...  \n",
              "310                               Battery is not great  \n",
              "311  Works like a charm. Battery is superbly optimi...  \n",
              "\n",
              "[288 rows x 3 columns]"
            ],
            "text/html": [
              "\n",
              "  <div id=\"df-9f2dc796-c270-4d91-8c5f-3295afc057d4\">\n",
              "    <div class=\"colab-df-container\">\n",
              "      <div>\n",
              "<style scoped>\n",
              "    .dataframe tbody tr th:only-of-type {\n",
              "        vertical-align: middle;\n",
              "    }\n",
              "\n",
              "    .dataframe tbody tr th {\n",
              "        vertical-align: top;\n",
              "    }\n",
              "\n",
              "    .dataframe thead th {\n",
              "        text-align: right;\n",
              "    }\n",
              "</style>\n",
              "<table border=\"1\" class=\"dataframe\">\n",
              "  <thead>\n",
              "    <tr style=\"text-align: right;\">\n",
              "      <th></th>\n",
              "      <th>Customer Name</th>\n",
              "      <th>Review Title</th>\n",
              "      <th>Reviews</th>\n",
              "    </tr>\n",
              "  </thead>\n",
              "  <tbody>\n",
              "    <tr>\n",
              "      <th>0</th>\n",
              "      <td>Khanbaba555</td>\n",
              "      <td>Review after 1 week of usage</td>\n",
              "      <td>Got it for 65K on Amazon prime day. So as a li...</td>\n",
              "    </tr>\n",
              "    <tr>\n",
              "      <th>1</th>\n",
              "      <td>debarghyo chaudhuri</td>\n",
              "      <td>Truly worth the money spent! Even if you go br...</td>\n",
              "      <td>My honest review after going broke buying this...</td>\n",
              "    </tr>\n",
              "    <tr>\n",
              "      <th>2</th>\n",
              "      <td>ApTreX</td>\n",
              "      <td>One word “excellent“</td>\n",
              "      <td>If you are a android user, trust me switch to ...</td>\n",
              "    </tr>\n",
              "    <tr>\n",
              "      <th>3</th>\n",
              "      <td>Rakesh</td>\n",
              "      <td>Awesome mobile i loved it 😍</td>\n",
              "      <td>Everything is very good. But packaging quality...</td>\n",
              "    </tr>\n",
              "    <tr>\n",
              "      <th>4</th>\n",
              "      <td>Ali Faisal Khan</td>\n",
              "      <td>Disappointed with packaging</td>\n",
              "      <td>worst packaging, Packaged iphone in plastic ba...</td>\n",
              "    </tr>\n",
              "    <tr>\n",
              "      <th>...</th>\n",
              "      <td>...</td>\n",
              "      <td>...</td>\n",
              "      <td>...</td>\n",
              "    </tr>\n",
              "    <tr>\n",
              "      <th>307</th>\n",
              "      <td>Harsh Nankani</td>\n",
              "      <td>Has serious heating issue.</td>\n",
              "      <td>This phone has some serious heating issue. It ...</td>\n",
              "    </tr>\n",
              "    <tr>\n",
              "      <th>308</th>\n",
              "      <td>Purushottam Raj</td>\n",
              "      <td>All the goodness of iphone but smaller</td>\n",
              "      <td>I've always been wanting a smaller phone to us...</td>\n",
              "    </tr>\n",
              "    <tr>\n",
              "      <th>309</th>\n",
              "      <td>Kishore</td>\n",
              "      <td>Great Phone 📱</td>\n",
              "      <td>I loved the small form factor of the iPhone 12...</td>\n",
              "    </tr>\n",
              "    <tr>\n",
              "      <th>310</th>\n",
              "      <td>Partha Pratik Mishra</td>\n",
              "      <td>Battery is not great</td>\n",
              "      <td>Battery is not great</td>\n",
              "    </tr>\n",
              "    <tr>\n",
              "      <th>311</th>\n",
              "      <td>Amazon Customer</td>\n",
              "      <td>What can you expect.</td>\n",
              "      <td>Works like a charm. Battery is superbly optimi...</td>\n",
              "    </tr>\n",
              "  </tbody>\n",
              "</table>\n",
              "<p>288 rows × 3 columns</p>\n",
              "</div>\n",
              "      <button class=\"colab-df-convert\" onclick=\"convertToInteractive('df-9f2dc796-c270-4d91-8c5f-3295afc057d4')\"\n",
              "              title=\"Convert this dataframe to an interactive table.\"\n",
              "              style=\"display:none;\">\n",
              "        \n",
              "  <svg xmlns=\"http://www.w3.org/2000/svg\" height=\"24px\"viewBox=\"0 0 24 24\"\n",
              "       width=\"24px\">\n",
              "    <path d=\"M0 0h24v24H0V0z\" fill=\"none\"/>\n",
              "    <path d=\"M18.56 5.44l.94 2.06.94-2.06 2.06-.94-2.06-.94-.94-2.06-.94 2.06-2.06.94zm-11 1L8.5 8.5l.94-2.06 2.06-.94-2.06-.94L8.5 2.5l-.94 2.06-2.06.94zm10 10l.94 2.06.94-2.06 2.06-.94-2.06-.94-.94-2.06-.94 2.06-2.06.94z\"/><path d=\"M17.41 7.96l-1.37-1.37c-.4-.4-.92-.59-1.43-.59-.52 0-1.04.2-1.43.59L10.3 9.45l-7.72 7.72c-.78.78-.78 2.05 0 2.83L4 21.41c.39.39.9.59 1.41.59.51 0 1.02-.2 1.41-.59l7.78-7.78 2.81-2.81c.8-.78.8-2.07 0-2.86zM5.41 20L4 18.59l7.72-7.72 1.47 1.35L5.41 20z\"/>\n",
              "  </svg>\n",
              "      </button>\n",
              "      \n",
              "  <style>\n",
              "    .colab-df-container {\n",
              "      display:flex;\n",
              "      flex-wrap:wrap;\n",
              "      gap: 12px;\n",
              "    }\n",
              "\n",
              "    .colab-df-convert {\n",
              "      background-color: #E8F0FE;\n",
              "      border: none;\n",
              "      border-radius: 50%;\n",
              "      cursor: pointer;\n",
              "      display: none;\n",
              "      fill: #1967D2;\n",
              "      height: 32px;\n",
              "      padding: 0 0 0 0;\n",
              "      width: 32px;\n",
              "    }\n",
              "\n",
              "    .colab-df-convert:hover {\n",
              "      background-color: #E2EBFA;\n",
              "      box-shadow: 0px 1px 2px rgba(60, 64, 67, 0.3), 0px 1px 3px 1px rgba(60, 64, 67, 0.15);\n",
              "      fill: #174EA6;\n",
              "    }\n",
              "\n",
              "    [theme=dark] .colab-df-convert {\n",
              "      background-color: #3B4455;\n",
              "      fill: #D2E3FC;\n",
              "    }\n",
              "\n",
              "    [theme=dark] .colab-df-convert:hover {\n",
              "      background-color: #434B5C;\n",
              "      box-shadow: 0px 1px 3px 1px rgba(0, 0, 0, 0.15);\n",
              "      filter: drop-shadow(0px 1px 2px rgba(0, 0, 0, 0.3));\n",
              "      fill: #FFFFFF;\n",
              "    }\n",
              "  </style>\n",
              "\n",
              "      <script>\n",
              "        const buttonEl =\n",
              "          document.querySelector('#df-9f2dc796-c270-4d91-8c5f-3295afc057d4 button.colab-df-convert');\n",
              "        buttonEl.style.display =\n",
              "          google.colab.kernel.accessAllowed ? 'block' : 'none';\n",
              "\n",
              "        async function convertToInteractive(key) {\n",
              "          const element = document.querySelector('#df-9f2dc796-c270-4d91-8c5f-3295afc057d4');\n",
              "          const dataTable =\n",
              "            await google.colab.kernel.invokeFunction('convertToInteractive',\n",
              "                                                     [key], {});\n",
              "          if (!dataTable) return;\n",
              "\n",
              "          const docLinkHtml = 'Like what you see? Visit the ' +\n",
              "            '<a target=\"_blank\" href=https://colab.research.google.com/notebooks/data_table.ipynb>data table notebook</a>'\n",
              "            + ' to learn more about interactive tables.';\n",
              "          element.innerHTML = '';\n",
              "          dataTable['output_type'] = 'display_data';\n",
              "          await google.colab.output.renderOutput(dataTable, element);\n",
              "          const docLink = document.createElement('div');\n",
              "          docLink.innerHTML = docLinkHtml;\n",
              "          element.appendChild(docLink);\n",
              "        }\n",
              "      </script>\n",
              "    </div>\n",
              "  </div>\n",
              "  "
            ]
          },
          "metadata": {},
          "execution_count": 4
        }
      ]
    },
    {
      "cell_type": "code",
      "source": [
        "import nltk\n",
        "nltk.download('stopwords')\n",
        "from nltk.corpus import stopwords\n",
        "stop = stopwords.words('english')"
      ],
      "metadata": {
        "colab": {
          "base_uri": "https://localhost:8080/"
        },
        "id": "P0ZvugL_3TZL",
        "outputId": "6cfa1edf-0419-4d5c-adf7-c076f93157ea"
      },
      "execution_count": null,
      "outputs": [
        {
          "output_type": "stream",
          "name": "stderr",
          "text": [
            "[nltk_data] Downloading package stopwords to /root/nltk_data...\n",
            "[nltk_data]   Unzipping corpora/stopwords.zip.\n"
          ]
        }
      ]
    },
    {
      "cell_type": "code",
      "source": [
        "#Removing Stopwords\n",
        "df['Reviews1'] =df['Reviews'].apply(lambda x: ' '.join([word for word in x.split() if word not in (stop)]))"
      ],
      "metadata": {
        "id": "DkkIcf2V3adr"
      },
      "execution_count": null,
      "outputs": []
    },
    {
      "cell_type": "code",
      "source": [
        "nltk.download('wordnet')\n",
        "nltk.download('omw-1.4')"
      ],
      "metadata": {
        "colab": {
          "base_uri": "https://localhost:8080/"
        },
        "id": "cPI_O_4N4H8t",
        "outputId": "74104a0a-63b4-4f1d-c38a-ca5087dc1021"
      },
      "execution_count": null,
      "outputs": [
        {
          "output_type": "stream",
          "name": "stderr",
          "text": [
            "[nltk_data] Downloading package wordnet to /root/nltk_data...\n",
            "[nltk_data] Downloading package omw-1.4 to /root/nltk_data...\n"
          ]
        },
        {
          "output_type": "execute_result",
          "data": {
            "text/plain": [
              "True"
            ]
          },
          "metadata": {},
          "execution_count": 7
        }
      ]
    },
    {
      "cell_type": "code",
      "source": [
        "#Lemmatizing\n",
        "import string\n",
        "from nltk.stem import WordNetLemmatizer\n",
        "lm = WordNetLemmatizer()\n",
        "def lemmatize(df):\n",
        "  df=df.split()\n",
        "  for i in range(0,len(df)):\n",
        "    k = df.pop(0)\n",
        "    if k not in string.punctuation:\n",
        "      df.append(lm.lemmatize(k).lower())  \n",
        "    \n",
        "  return df\n",
        "df['Reviews2'] =df['Reviews1'].apply(lemmatize)"
      ],
      "metadata": {
        "id": "0NBDKvOv3xnF"
      },
      "execution_count": null,
      "outputs": []
    },
    {
      "cell_type": "code",
      "source": [
        "df['Reviews3'] =df['Reviews2'].apply(lambda x: ' '.join(x))\n",
        "df"
      ],
      "metadata": {
        "colab": {
          "base_uri": "https://localhost:8080/",
          "height": 658
        },
        "id": "I686q56L4VIH",
        "outputId": "abe8f3f3-fce8-4dfb-ccde-da49c47df786"
      },
      "execution_count": null,
      "outputs": [
        {
          "output_type": "execute_result",
          "data": {
            "text/plain": [
              "            Customer Name                                       Review Title  \\\n",
              "0             Khanbaba555                       Review after 1 week of usage   \n",
              "1     debarghyo chaudhuri  Truly worth the money spent! Even if you go br...   \n",
              "2                  ApTreX                               One word “excellent“   \n",
              "3                  Rakesh                        Awesome mobile i loved it 😍   \n",
              "4         Ali Faisal Khan                        Disappointed with packaging   \n",
              "..                    ...                                                ...   \n",
              "307         Harsh Nankani                         Has serious heating issue.   \n",
              "308       Purushottam Raj             All the goodness of iphone but smaller   \n",
              "309               Kishore                                      Great Phone 📱   \n",
              "310  Partha Pratik Mishra                               Battery is not great   \n",
              "311       Amazon Customer                               What can you expect.   \n",
              "\n",
              "                                               Reviews  \\\n",
              "0    Got it for 65K on Amazon prime day. So as a li...   \n",
              "1    My honest review after going broke buying this...   \n",
              "2    If you are a android user, trust me switch to ...   \n",
              "3    Everything is very good. But packaging quality...   \n",
              "4    worst packaging, Packaged iphone in plastic ba...   \n",
              "..                                                 ...   \n",
              "307  This phone has some serious heating issue. It ...   \n",
              "308  I've always been wanting a smaller phone to us...   \n",
              "309  I loved the small form factor of the iPhone 12...   \n",
              "310                               Battery is not great   \n",
              "311  Works like a charm. Battery is superbly optimi...   \n",
              "\n",
              "                                              Reviews1  \\\n",
              "0    Got 65K Amazon prime day. So lifelong android ...   \n",
              "1    My honest review going broke buying depreciati...   \n",
              "2    If android user, trust switch iPhone. It never...   \n",
              "3    Everything good. But packaging quality bad Ple...   \n",
              "4    worst packaging, Packaged iphone plastic bag s...   \n",
              "..                                                 ...   \n",
              "307  This phone serious heating issue. It heats eve...   \n",
              "308  I've always wanting smaller phone use running,...   \n",
              "309  I loved small form factor iPhone 12 🔢. ♥️ grip...   \n",
              "310                                      Battery great   \n",
              "311  Works like charm. Battery superbly optimised e...   \n",
              "\n",
              "                                              Reviews2  \\\n",
              "0    [got, 65k, amazon, prime, day., so, lifelong, ...   \n",
              "1    [my, honest, review, going, broke, buying, dep...   \n",
              "2    [if, android, user,, trust, switch, iphone., i...   \n",
              "3    [everything, good., but, packaging, quality, b...   \n",
              "4    [worst, packaging,, packaged, iphone, plastic,...   \n",
              "..                                                 ...   \n",
              "307  [this, phone, serious, heating, issue., it, he...   \n",
              "308  [i've, always, wanting, smaller, phone, use, r...   \n",
              "309  [i, loved, small, form, factor, iphone, 12, 🔢....   \n",
              "310                                   [battery, great]   \n",
              "311  [works, like, charm., battery, superbly, optim...   \n",
              "\n",
              "                                              Reviews3  \n",
              "0    got 65k amazon prime day. so lifelong android ...  \n",
              "1    my honest review going broke buying depreciati...  \n",
              "2    if android user, trust switch iphone. it never...  \n",
              "3    everything good. but packaging quality bad ple...  \n",
              "4    worst packaging, packaged iphone plastic bag s...  \n",
              "..                                                 ...  \n",
              "307  this phone serious heating issue. it heat even...  \n",
              "308  i've always wanting smaller phone use running,...  \n",
              "309  i loved small form factor iphone 12 🔢. ♥️ grip...  \n",
              "310                                      battery great  \n",
              "311  works like charm. battery superbly optimised e...  \n",
              "\n",
              "[288 rows x 6 columns]"
            ],
            "text/html": [
              "\n",
              "  <div id=\"df-ce4f3316-3a0c-4758-a2eb-51199de4d826\">\n",
              "    <div class=\"colab-df-container\">\n",
              "      <div>\n",
              "<style scoped>\n",
              "    .dataframe tbody tr th:only-of-type {\n",
              "        vertical-align: middle;\n",
              "    }\n",
              "\n",
              "    .dataframe tbody tr th {\n",
              "        vertical-align: top;\n",
              "    }\n",
              "\n",
              "    .dataframe thead th {\n",
              "        text-align: right;\n",
              "    }\n",
              "</style>\n",
              "<table border=\"1\" class=\"dataframe\">\n",
              "  <thead>\n",
              "    <tr style=\"text-align: right;\">\n",
              "      <th></th>\n",
              "      <th>Customer Name</th>\n",
              "      <th>Review Title</th>\n",
              "      <th>Reviews</th>\n",
              "      <th>Reviews1</th>\n",
              "      <th>Reviews2</th>\n",
              "      <th>Reviews3</th>\n",
              "    </tr>\n",
              "  </thead>\n",
              "  <tbody>\n",
              "    <tr>\n",
              "      <th>0</th>\n",
              "      <td>Khanbaba555</td>\n",
              "      <td>Review after 1 week of usage</td>\n",
              "      <td>Got it for 65K on Amazon prime day. So as a li...</td>\n",
              "      <td>Got 65K Amazon prime day. So lifelong android ...</td>\n",
              "      <td>[got, 65k, amazon, prime, day., so, lifelong, ...</td>\n",
              "      <td>got 65k amazon prime day. so lifelong android ...</td>\n",
              "    </tr>\n",
              "    <tr>\n",
              "      <th>1</th>\n",
              "      <td>debarghyo chaudhuri</td>\n",
              "      <td>Truly worth the money spent! Even if you go br...</td>\n",
              "      <td>My honest review after going broke buying this...</td>\n",
              "      <td>My honest review going broke buying depreciati...</td>\n",
              "      <td>[my, honest, review, going, broke, buying, dep...</td>\n",
              "      <td>my honest review going broke buying depreciati...</td>\n",
              "    </tr>\n",
              "    <tr>\n",
              "      <th>2</th>\n",
              "      <td>ApTreX</td>\n",
              "      <td>One word “excellent“</td>\n",
              "      <td>If you are a android user, trust me switch to ...</td>\n",
              "      <td>If android user, trust switch iPhone. It never...</td>\n",
              "      <td>[if, android, user,, trust, switch, iphone., i...</td>\n",
              "      <td>if android user, trust switch iphone. it never...</td>\n",
              "    </tr>\n",
              "    <tr>\n",
              "      <th>3</th>\n",
              "      <td>Rakesh</td>\n",
              "      <td>Awesome mobile i loved it 😍</td>\n",
              "      <td>Everything is very good. But packaging quality...</td>\n",
              "      <td>Everything good. But packaging quality bad Ple...</td>\n",
              "      <td>[everything, good., but, packaging, quality, b...</td>\n",
              "      <td>everything good. but packaging quality bad ple...</td>\n",
              "    </tr>\n",
              "    <tr>\n",
              "      <th>4</th>\n",
              "      <td>Ali Faisal Khan</td>\n",
              "      <td>Disappointed with packaging</td>\n",
              "      <td>worst packaging, Packaged iphone in plastic ba...</td>\n",
              "      <td>worst packaging, Packaged iphone plastic bag s...</td>\n",
              "      <td>[worst, packaging,, packaged, iphone, plastic,...</td>\n",
              "      <td>worst packaging, packaged iphone plastic bag s...</td>\n",
              "    </tr>\n",
              "    <tr>\n",
              "      <th>...</th>\n",
              "      <td>...</td>\n",
              "      <td>...</td>\n",
              "      <td>...</td>\n",
              "      <td>...</td>\n",
              "      <td>...</td>\n",
              "      <td>...</td>\n",
              "    </tr>\n",
              "    <tr>\n",
              "      <th>307</th>\n",
              "      <td>Harsh Nankani</td>\n",
              "      <td>Has serious heating issue.</td>\n",
              "      <td>This phone has some serious heating issue. It ...</td>\n",
              "      <td>This phone serious heating issue. It heats eve...</td>\n",
              "      <td>[this, phone, serious, heating, issue., it, he...</td>\n",
              "      <td>this phone serious heating issue. it heat even...</td>\n",
              "    </tr>\n",
              "    <tr>\n",
              "      <th>308</th>\n",
              "      <td>Purushottam Raj</td>\n",
              "      <td>All the goodness of iphone but smaller</td>\n",
              "      <td>I've always been wanting a smaller phone to us...</td>\n",
              "      <td>I've always wanting smaller phone use running,...</td>\n",
              "      <td>[i've, always, wanting, smaller, phone, use, r...</td>\n",
              "      <td>i've always wanting smaller phone use running,...</td>\n",
              "    </tr>\n",
              "    <tr>\n",
              "      <th>309</th>\n",
              "      <td>Kishore</td>\n",
              "      <td>Great Phone 📱</td>\n",
              "      <td>I loved the small form factor of the iPhone 12...</td>\n",
              "      <td>I loved small form factor iPhone 12 🔢. ♥️ grip...</td>\n",
              "      <td>[i, loved, small, form, factor, iphone, 12, 🔢....</td>\n",
              "      <td>i loved small form factor iphone 12 🔢. ♥️ grip...</td>\n",
              "    </tr>\n",
              "    <tr>\n",
              "      <th>310</th>\n",
              "      <td>Partha Pratik Mishra</td>\n",
              "      <td>Battery is not great</td>\n",
              "      <td>Battery is not great</td>\n",
              "      <td>Battery great</td>\n",
              "      <td>[battery, great]</td>\n",
              "      <td>battery great</td>\n",
              "    </tr>\n",
              "    <tr>\n",
              "      <th>311</th>\n",
              "      <td>Amazon Customer</td>\n",
              "      <td>What can you expect.</td>\n",
              "      <td>Works like a charm. Battery is superbly optimi...</td>\n",
              "      <td>Works like charm. Battery superbly optimised e...</td>\n",
              "      <td>[works, like, charm., battery, superbly, optim...</td>\n",
              "      <td>works like charm. battery superbly optimised e...</td>\n",
              "    </tr>\n",
              "  </tbody>\n",
              "</table>\n",
              "<p>288 rows × 6 columns</p>\n",
              "</div>\n",
              "      <button class=\"colab-df-convert\" onclick=\"convertToInteractive('df-ce4f3316-3a0c-4758-a2eb-51199de4d826')\"\n",
              "              title=\"Convert this dataframe to an interactive table.\"\n",
              "              style=\"display:none;\">\n",
              "        \n",
              "  <svg xmlns=\"http://www.w3.org/2000/svg\" height=\"24px\"viewBox=\"0 0 24 24\"\n",
              "       width=\"24px\">\n",
              "    <path d=\"M0 0h24v24H0V0z\" fill=\"none\"/>\n",
              "    <path d=\"M18.56 5.44l.94 2.06.94-2.06 2.06-.94-2.06-.94-.94-2.06-.94 2.06-2.06.94zm-11 1L8.5 8.5l.94-2.06 2.06-.94-2.06-.94L8.5 2.5l-.94 2.06-2.06.94zm10 10l.94 2.06.94-2.06 2.06-.94-2.06-.94-.94-2.06-.94 2.06-2.06.94z\"/><path d=\"M17.41 7.96l-1.37-1.37c-.4-.4-.92-.59-1.43-.59-.52 0-1.04.2-1.43.59L10.3 9.45l-7.72 7.72c-.78.78-.78 2.05 0 2.83L4 21.41c.39.39.9.59 1.41.59.51 0 1.02-.2 1.41-.59l7.78-7.78 2.81-2.81c.8-.78.8-2.07 0-2.86zM5.41 20L4 18.59l7.72-7.72 1.47 1.35L5.41 20z\"/>\n",
              "  </svg>\n",
              "      </button>\n",
              "      \n",
              "  <style>\n",
              "    .colab-df-container {\n",
              "      display:flex;\n",
              "      flex-wrap:wrap;\n",
              "      gap: 12px;\n",
              "    }\n",
              "\n",
              "    .colab-df-convert {\n",
              "      background-color: #E8F0FE;\n",
              "      border: none;\n",
              "      border-radius: 50%;\n",
              "      cursor: pointer;\n",
              "      display: none;\n",
              "      fill: #1967D2;\n",
              "      height: 32px;\n",
              "      padding: 0 0 0 0;\n",
              "      width: 32px;\n",
              "    }\n",
              "\n",
              "    .colab-df-convert:hover {\n",
              "      background-color: #E2EBFA;\n",
              "      box-shadow: 0px 1px 2px rgba(60, 64, 67, 0.3), 0px 1px 3px 1px rgba(60, 64, 67, 0.15);\n",
              "      fill: #174EA6;\n",
              "    }\n",
              "\n",
              "    [theme=dark] .colab-df-convert {\n",
              "      background-color: #3B4455;\n",
              "      fill: #D2E3FC;\n",
              "    }\n",
              "\n",
              "    [theme=dark] .colab-df-convert:hover {\n",
              "      background-color: #434B5C;\n",
              "      box-shadow: 0px 1px 3px 1px rgba(0, 0, 0, 0.15);\n",
              "      filter: drop-shadow(0px 1px 2px rgba(0, 0, 0, 0.3));\n",
              "      fill: #FFFFFF;\n",
              "    }\n",
              "  </style>\n",
              "\n",
              "      <script>\n",
              "        const buttonEl =\n",
              "          document.querySelector('#df-ce4f3316-3a0c-4758-a2eb-51199de4d826 button.colab-df-convert');\n",
              "        buttonEl.style.display =\n",
              "          google.colab.kernel.accessAllowed ? 'block' : 'none';\n",
              "\n",
              "        async function convertToInteractive(key) {\n",
              "          const element = document.querySelector('#df-ce4f3316-3a0c-4758-a2eb-51199de4d826');\n",
              "          const dataTable =\n",
              "            await google.colab.kernel.invokeFunction('convertToInteractive',\n",
              "                                                     [key], {});\n",
              "          if (!dataTable) return;\n",
              "\n",
              "          const docLinkHtml = 'Like what you see? Visit the ' +\n",
              "            '<a target=\"_blank\" href=https://colab.research.google.com/notebooks/data_table.ipynb>data table notebook</a>'\n",
              "            + ' to learn more about interactive tables.';\n",
              "          element.innerHTML = '';\n",
              "          dataTable['output_type'] = 'display_data';\n",
              "          await google.colab.output.renderOutput(dataTable, element);\n",
              "          const docLink = document.createElement('div');\n",
              "          docLink.innerHTML = docLinkHtml;\n",
              "          element.appendChild(docLink);\n",
              "        }\n",
              "      </script>\n",
              "    </div>\n",
              "  </div>\n",
              "  "
            ]
          },
          "metadata": {},
          "execution_count": 9
        }
      ]
    },
    {
      "cell_type": "code",
      "source": [
        "with open('/content/data.txt', 'w') as f:\n",
        "    dfAsString = df['Reviews3'].to_string(header=False, index=False)\n",
        "    f.write(dfAsString)"
      ],
      "metadata": {
        "id": "h56oEgAE5TTF"
      },
      "execution_count": null,
      "outputs": []
    },
    {
      "cell_type": "code",
      "source": [
        "df['Reviews3'].to_csv('data.txt', sep='\\t')"
      ],
      "metadata": {
        "id": "vEX4tSJR0OYI"
      },
      "execution_count": null,
      "outputs": []
    },
    {
      "cell_type": "code",
      "source": [
        "! pip install spacy==3.4.0"
      ],
      "metadata": {
        "id": "lSZWTEwhX4SF",
        "colab": {
          "base_uri": "https://localhost:8080/"
        },
        "outputId": "134e85ee-296e-4f29-df2b-7dbacf29fbe9"
      },
      "execution_count": null,
      "outputs": [
        {
          "output_type": "stream",
          "name": "stdout",
          "text": [
            "Looking in indexes: https://pypi.org/simple, https://us-python.pkg.dev/colab-wheels/public/simple/\n",
            "Requirement already satisfied: spacy==3.4.0 in /usr/local/lib/python3.8/dist-packages (3.4.0)\n",
            "Requirement already satisfied: srsly<3.0.0,>=2.4.3 in /usr/local/lib/python3.8/dist-packages (from spacy==3.4.0) (2.4.5)\n",
            "Requirement already satisfied: numpy>=1.15.0 in /usr/local/lib/python3.8/dist-packages (from spacy==3.4.0) (1.21.6)\n",
            "Requirement already satisfied: pathy>=0.3.5 in /usr/local/lib/python3.8/dist-packages (from spacy==3.4.0) (0.10.1)\n",
            "Requirement already satisfied: jinja2 in /usr/local/lib/python3.8/dist-packages (from spacy==3.4.0) (2.11.3)\n",
            "Requirement already satisfied: tqdm<5.0.0,>=4.38.0 in /usr/local/lib/python3.8/dist-packages (from spacy==3.4.0) (4.64.1)\n",
            "Requirement already satisfied: murmurhash<1.1.0,>=0.28.0 in /usr/local/lib/python3.8/dist-packages (from spacy==3.4.0) (1.0.9)\n",
            "Requirement already satisfied: setuptools in /usr/local/lib/python3.8/dist-packages (from spacy==3.4.0) (57.4.0)\n",
            "Requirement already satisfied: requests<3.0.0,>=2.13.0 in /usr/local/lib/python3.8/dist-packages (from spacy==3.4.0) (2.25.1)\n",
            "Requirement already satisfied: spacy-loggers<2.0.0,>=1.0.0 in /usr/local/lib/python3.8/dist-packages (from spacy==3.4.0) (1.0.4)\n",
            "Requirement already satisfied: packaging>=20.0 in /usr/local/lib/python3.8/dist-packages (from spacy==3.4.0) (21.3)\n",
            "Requirement already satisfied: thinc<8.2.0,>=8.1.0 in /usr/local/lib/python3.8/dist-packages (from spacy==3.4.0) (8.1.6)\n",
            "Requirement already satisfied: spacy-legacy<3.1.0,>=3.0.9 in /usr/local/lib/python3.8/dist-packages (from spacy==3.4.0) (3.0.11)\n",
            "Requirement already satisfied: catalogue<2.1.0,>=2.0.6 in /usr/local/lib/python3.8/dist-packages (from spacy==3.4.0) (2.0.8)\n",
            "Requirement already satisfied: langcodes<4.0.0,>=3.2.0 in /usr/local/lib/python3.8/dist-packages (from spacy==3.4.0) (3.3.0)\n",
            "Requirement already satisfied: preshed<3.1.0,>=3.0.2 in /usr/local/lib/python3.8/dist-packages (from spacy==3.4.0) (3.0.8)\n",
            "Requirement already satisfied: pydantic!=1.8,!=1.8.1,<1.10.0,>=1.7.4 in /usr/local/lib/python3.8/dist-packages (from spacy==3.4.0) (1.9.2)\n",
            "Requirement already satisfied: typer<0.5.0,>=0.3.0 in /usr/local/lib/python3.8/dist-packages (from spacy==3.4.0) (0.4.2)\n",
            "Requirement already satisfied: cymem<2.1.0,>=2.0.2 in /usr/local/lib/python3.8/dist-packages (from spacy==3.4.0) (2.0.7)\n",
            "Requirement already satisfied: wasabi<1.1.0,>=0.9.1 in /usr/local/lib/python3.8/dist-packages (from spacy==3.4.0) (0.10.1)\n",
            "Requirement already satisfied: pyparsing!=3.0.5,>=2.0.2 in /usr/local/lib/python3.8/dist-packages (from packaging>=20.0->spacy==3.4.0) (3.0.9)\n",
            "Requirement already satisfied: smart-open<7.0.0,>=5.2.1 in /usr/local/lib/python3.8/dist-packages (from pathy>=0.3.5->spacy==3.4.0) (6.3.0)\n",
            "Requirement already satisfied: typing-extensions>=3.7.4.3 in /usr/local/lib/python3.8/dist-packages (from pydantic!=1.8,!=1.8.1,<1.10.0,>=1.7.4->spacy==3.4.0) (4.4.0)\n",
            "Requirement already satisfied: urllib3<1.27,>=1.21.1 in /usr/local/lib/python3.8/dist-packages (from requests<3.0.0,>=2.13.0->spacy==3.4.0) (1.24.3)\n",
            "Requirement already satisfied: idna<3,>=2.5 in /usr/local/lib/python3.8/dist-packages (from requests<3.0.0,>=2.13.0->spacy==3.4.0) (2.10)\n",
            "Requirement already satisfied: chardet<5,>=3.0.2 in /usr/local/lib/python3.8/dist-packages (from requests<3.0.0,>=2.13.0->spacy==3.4.0) (4.0.0)\n",
            "Requirement already satisfied: certifi>=2017.4.17 in /usr/local/lib/python3.8/dist-packages (from requests<3.0.0,>=2.13.0->spacy==3.4.0) (2022.12.7)\n",
            "Requirement already satisfied: confection<1.0.0,>=0.0.1 in /usr/local/lib/python3.8/dist-packages (from thinc<8.2.0,>=8.1.0->spacy==3.4.0) (0.0.3)\n",
            "Requirement already satisfied: blis<0.8.0,>=0.7.8 in /usr/local/lib/python3.8/dist-packages (from thinc<8.2.0,>=8.1.0->spacy==3.4.0) (0.7.9)\n",
            "Requirement already satisfied: click<9.0.0,>=7.1.1 in /usr/local/lib/python3.8/dist-packages (from typer<0.5.0,>=0.3.0->spacy==3.4.0) (7.1.2)\n",
            "Requirement already satisfied: MarkupSafe>=0.23 in /usr/local/lib/python3.8/dist-packages (from jinja2->spacy==3.4.0) (2.0.1)\n"
          ]
        }
      ]
    },
    {
      "cell_type": "code",
      "source": [
        "import spacy\n",
        "from spacy.tokens import DocBin\n",
        "from tqdm import tqdm\n",
        "\n",
        "nlp = spacy.blank(\"en\") # load a new spacy model\n",
        "db = DocBin()"
      ],
      "metadata": {
        "id": "3QsuIY6_NIWU"
      },
      "execution_count": null,
      "outputs": []
    },
    {
      "cell_type": "code",
      "source": [
        "print(spacy.__version__)"
      ],
      "metadata": {
        "colab": {
          "base_uri": "https://localhost:8080/"
        },
        "id": "Kou_2wXQS9PB",
        "outputId": "b8c5dcf4-dabd-4764-b18b-c8d7dccae1b1"
      },
      "execution_count": null,
      "outputs": [
        {
          "output_type": "stream",
          "name": "stdout",
          "text": [
            "3.4.0\n"
          ]
        }
      ]
    },
    {
      "cell_type": "code",
      "source": [
        "import json\n",
        "f = open('/content/annotations.json')\n",
        "TRAIN_DATA = json.load(f)"
      ],
      "metadata": {
        "id": "Wa32JhmYNOna"
      },
      "execution_count": null,
      "outputs": []
    },
    {
      "cell_type": "code",
      "source": [
        "for text, annot in tqdm(TRAIN_DATA['annotations']): \n",
        "    doc = nlp.make_doc(text) \n",
        "    ents = []\n",
        "    for start, end, label in annot[\"entities\"]:\n",
        "        span = doc.char_span(start, end, label=label, alignment_mode=\"contract\")\n",
        "        if span is None:\n",
        "            print(\"Skipping entity\")\n",
        "        else:\n",
        "            ents.append(span)\n",
        "    doc.ents = ents \n",
        "    db.add(doc)\n",
        "\n",
        "db.to_disk(\"./training_data.spacy\")"
      ],
      "metadata": {
        "colab": {
          "base_uri": "https://localhost:8080/"
        },
        "id": "EEmBB0wZNZ4S",
        "outputId": "906b10f2-c132-4512-cce9-5cd529c9954d"
      },
      "execution_count": null,
      "outputs": [
        {
          "output_type": "stream",
          "name": "stderr",
          "text": [
            "100%|██████████| 288/288 [00:00<00:00, 1274.54it/s]"
          ]
        },
        {
          "output_type": "stream",
          "name": "stdout",
          "text": [
            "Skipping entity\n",
            "Skipping entity\n",
            "Skipping entity\n"
          ]
        },
        {
          "output_type": "stream",
          "name": "stderr",
          "text": [
            "\n"
          ]
        }
      ]
    },
    {
      "cell_type": "code",
      "source": [
        "! python -m spacy init config config.cfg --lang en --pipeline ner --optimize efficiency"
      ],
      "metadata": {
        "colab": {
          "base_uri": "https://localhost:8080/"
        },
        "id": "cZgnjBZCNepb",
        "outputId": "38989f78-f4e4-4102-daba-4dd8e3c4f6c9"
      },
      "execution_count": null,
      "outputs": [
        {
          "output_type": "stream",
          "name": "stdout",
          "text": [
            "\u001b[38;5;3m⚠ To generate a more effective transformer-based config (GPU-only),\n",
            "install the spacy-transformers package and re-run this command. The config\n",
            "generated now does not use transformers.\u001b[0m\n",
            "\u001b[38;5;4mℹ Generated config template specific for your use case\u001b[0m\n",
            "- Language: en\n",
            "- Pipeline: ner\n",
            "- Optimize for: efficiency\n",
            "- Hardware: CPU\n",
            "- Transformer: None\n",
            "\u001b[38;5;2m✔ Auto-filled config with all values\u001b[0m\n",
            "\u001b[38;5;2m✔ Saved config\u001b[0m\n",
            "config.cfg\n",
            "You can now add your data and train your pipeline:\n",
            "python -m spacy train config.cfg --paths.train ./train.spacy --paths.dev ./dev.spacy\n"
          ]
        }
      ]
    },
    {
      "cell_type": "code",
      "source": [
        "! python -m spacy train config.cfg --output ./ --paths.train ./training_data.spacy --paths.dev ./training_data.spacy"
      ],
      "metadata": {
        "colab": {
          "base_uri": "https://localhost:8080/"
        },
        "id": "gFCt0do1Nfo_",
        "outputId": "d513cb4f-57a6-4859-e533-e46f1758c1de"
      },
      "execution_count": null,
      "outputs": [
        {
          "output_type": "stream",
          "name": "stdout",
          "text": [
            "\u001b[38;5;4mℹ Saving to output directory: .\u001b[0m\n",
            "\u001b[38;5;4mℹ Using CPU\u001b[0m\n",
            "\u001b[38;5;4mℹ To switch to GPU 0, use the option: --gpu-id 0\u001b[0m\n",
            "\u001b[1m\n",
            "=========================== Initializing pipeline ===========================\u001b[0m\n",
            "[2023-01-25 05:02:56,909] [INFO] Set up nlp object from config\n",
            "INFO:spacy:Set up nlp object from config\n",
            "[2023-01-25 05:02:56,917] [INFO] Pipeline: ['tok2vec', 'ner']\n",
            "INFO:spacy:Pipeline: ['tok2vec', 'ner']\n",
            "[2023-01-25 05:02:56,921] [INFO] Created vocabulary\n",
            "INFO:spacy:Created vocabulary\n",
            "[2023-01-25 05:02:56,921] [INFO] Finished initializing nlp object\n",
            "INFO:spacy:Finished initializing nlp object\n",
            "[2023-01-25 05:02:57,550] [INFO] Initialized pipeline components: ['tok2vec', 'ner']\n",
            "INFO:spacy:Initialized pipeline components: ['tok2vec', 'ner']\n",
            "\u001b[38;5;2m✔ Initialized pipeline\u001b[0m\n",
            "\u001b[1m\n",
            "============================= Training pipeline =============================\u001b[0m\n",
            "\u001b[38;5;4mℹ Pipeline: ['tok2vec', 'ner']\u001b[0m\n",
            "\u001b[38;5;4mℹ Initial learn rate: 0.001\u001b[0m\n",
            "E    #       LOSS TOK2VEC  LOSS NER  ENTS_F  ENTS_P  ENTS_R  SCORE \n",
            "---  ------  ------------  --------  ------  ------  ------  ------\n",
            "  0       0          0.00     74.32    0.00    0.00    0.00    0.00\n",
            "  1     200        506.84   1254.94   60.64   59.09   62.28    0.61\n",
            "  4     400      22300.20    504.17   83.03   84.05   82.04    0.83\n",
            "  6     600       1819.25    207.31   90.36   90.91   89.82    0.90\n",
            "  9     800         91.11     88.83   96.99   97.58   96.41    0.97\n",
            " 13    1000       4835.27    144.92   98.19   98.79   97.60    0.98\n",
            " 17    1200        816.02     67.26   99.40   99.40   99.40    0.99\n",
            " 21    1400         28.58     16.41  100.00  100.00  100.00    1.00\n",
            " 27    1600         82.12     21.32   99.70  100.00   99.40    1.00\n",
            " 34    1800         68.00     22.66  100.00  100.00  100.00    1.00\n",
            " 43    2000         50.53     12.81  100.00  100.00  100.00    1.00\n",
            " 54    2200         39.74      7.36  100.00  100.00  100.00    1.00\n",
            " 68    2400         66.00     12.96  100.00  100.00  100.00    1.00\n",
            " 83    2600        169.23     24.29  100.00  100.00  100.00    1.00\n",
            " 98    2800         44.27      9.06  100.00  100.00  100.00    1.00\n",
            "114    3000          8.78      1.63  100.00  100.00  100.00    1.00\n",
            "\u001b[38;5;2m✔ Saved pipeline to output directory\u001b[0m\n",
            "model-last\n"
          ]
        }
      ]
    },
    {
      "cell_type": "code",
      "source": [
        "nlp_ner = spacy.load(\"/content/model-best\")"
      ],
      "metadata": {
        "id": "2kro5mNdNks6"
      },
      "execution_count": null,
      "outputs": []
    },
    {
      "cell_type": "code",
      "source": [
        "doc = nlp_ner('''I work at Amazon as software engineer. My salary is ₹110 per month .I get a hike of 10% every year''')"
      ],
      "metadata": {
        "id": "V9yktNOQQX3y"
      },
      "execution_count": null,
      "outputs": []
    },
    {
      "cell_type": "code",
      "source": [
        "spacy.displacy.render(doc, style=\"ent\", jupyter=True) # display in Jupyter"
      ],
      "metadata": {
        "colab": {
          "base_uri": "https://localhost:8080/",
          "height": 52
        },
        "id": "j-qsZgcNQoui",
        "outputId": "7c23fe82-f95c-4134-d97e-a40486a8fcc1"
      },
      "execution_count": null,
      "outputs": [
        {
          "output_type": "display_data",
          "data": {
            "text/plain": [
              "<IPython.core.display.HTML object>"
            ],
            "text/html": [
              "<span class=\"tex2jax_ignore\"><div class=\"entities\" style=\"line-height: 2.5; direction: ltr\">I work at \n",
              "<mark class=\"entity\" style=\"background: #7aecec; padding: 0.45em 0.6em; margin: 0 0.25em; line-height: 1; border-radius: 0.35em;\">\n",
              "    Amazon\n",
              "    <span style=\"font-size: 0.8em; font-weight: bold; line-height: 1; border-radius: 0.35em; vertical-align: middle; margin-left: 0.5rem\">ORG</span>\n",
              "</mark>\n",
              " as software engineer. My salary is \n",
              "<mark class=\"entity\" style=\"background: #e4e7d2; padding: 0.45em 0.6em; margin: 0 0.25em; line-height: 1; border-radius: 0.35em;\">\n",
              "    ₹110\n",
              "    <span style=\"font-size: 0.8em; font-weight: bold; line-height: 1; border-radius: 0.35em; vertical-align: middle; margin-left: 0.5rem\">MONEY</span>\n",
              "</mark>\n",
              " per month .I get a hike of \n",
              "<mark class=\"entity\" style=\"background: #ddd; padding: 0.45em 0.6em; margin: 0 0.25em; line-height: 1; border-radius: 0.35em;\">\n",
              "    10%\n",
              "    <span style=\"font-size: 0.8em; font-weight: bold; line-height: 1; border-radius: 0.35em; vertical-align: middle; margin-left: 0.5rem\">PERCENTAGE </span>\n",
              "</mark>\n",
              " every year</div></span>"
            ]
          },
          "metadata": {}
        }
      ]
    },
    {
      "cell_type": "code",
      "source": [
        "!zip -r /content/model-best.zip /content/model-best"
      ],
      "metadata": {
        "id": "79mQxRiVQrIt",
        "colab": {
          "base_uri": "https://localhost:8080/"
        },
        "outputId": "3693d539-eae8-4f19-c364-c1dfa5e1b3da"
      },
      "execution_count": null,
      "outputs": [
        {
          "output_type": "stream",
          "name": "stdout",
          "text": [
            "  adding: content/model-best/ (stored 0%)\n",
            "  adding: content/model-best/ner/ (stored 0%)\n",
            "  adding: content/model-best/ner/moves (deflated 62%)\n",
            "  adding: content/model-best/ner/model (deflated 8%)\n",
            "  adding: content/model-best/ner/cfg (deflated 33%)\n",
            "  adding: content/model-best/vocab/ (stored 0%)\n",
            "  adding: content/model-best/vocab/key2row (stored 0%)\n",
            "  adding: content/model-best/vocab/vectors (deflated 45%)\n",
            "  adding: content/model-best/vocab/strings.json (deflated 73%)\n",
            "  adding: content/model-best/vocab/lookups.bin (stored 0%)\n",
            "  adding: content/model-best/vocab/vectors.cfg (stored 0%)\n",
            "  adding: content/model-best/config.cfg (deflated 61%)\n",
            "  adding: content/model-best/tokenizer (deflated 81%)\n",
            "  adding: content/model-best/meta.json (deflated 66%)\n",
            "  adding: content/model-best/tok2vec/ (stored 0%)\n",
            "  adding: content/model-best/tok2vec/model (deflated 8%)\n",
            "  adding: content/model-best/tok2vec/cfg (stored 0%)\n"
          ]
        }
      ]
    },
    {
      "cell_type": "code",
      "source": [
        "from google.colab import files\n",
        "files.download(\"/content/model-best.zip\")"
      ],
      "metadata": {
        "id": "JrXj3kao2ZP4"
      },
      "execution_count": null,
      "outputs": []
    }
  ]
}